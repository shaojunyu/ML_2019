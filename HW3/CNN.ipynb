{
 "cells": [
  {
   "cell_type": "markdown",
   "metadata": {},
   "source": [
    "## Problem 3.Convolutional neural network (CNN) "
   ]
  },
  {
   "cell_type": "code",
   "execution_count": 1,
   "metadata": {},
   "outputs": [
    {
     "data": {
      "text/plain": [
       "'1.13.1'"
      ]
     },
     "execution_count": 1,
     "metadata": {},
     "output_type": "execute_result"
    }
   ],
   "source": [
    "# Python 3.6\n",
    "# Shaoojun Yu\n",
    "# Apr 20, 2019\n",
    "\n",
    "import tensorflow as tf\n",
    "import numpy as np\n",
    "from sklearn.model_selection import train_test_split\n",
    "from tensorflow import keras\n",
    "from tensorflow.keras.models import Sequential\n",
    "from tensorflow.keras.layers import Dense, Flatten, Conv2D, Dropout, MaxPooling2D\n",
    "from tensorflow.keras import regularizers\n",
    "import matplotlib.pyplot as plt\n",
    "tf.__version__"
   ]
  },
  {
   "cell_type": "code",
   "execution_count": 2,
   "metadata": {},
   "outputs": [],
   "source": [
    "dataset = tf.keras.datasets.fashion_mnist\n",
    "(x_train, y_train),(x_test, y_test) = dataset.load_data()\n",
    "x_train = x_train/255.0\n",
    "x_test = x_test/255.0\n",
    "\n",
    "# split data\n",
    "x_train_new = []\n",
    "y_train_new = []\n",
    "x_validation = []\n",
    "y_validation = []\n",
    "for y in np.unique(y_train):\n",
    "    idx = np.where(y_train == y)[0]\n",
    "    X = x_train[idx]\n",
    "    y = y_train[idx]\n",
    "    X_trn, X_val, y_trn, y_val = train_test_split(X, y, test_size=0.2, random_state=42)\n",
    "    x_train_new.extend(X_trn)\n",
    "    y_train_new.extend(y_trn)\n",
    "    x_validation.extend(X_val)\n",
    "    y_validation.extend(y_val)\n",
    "\n",
    "#reshape and one-hot encode\n",
    "x_train_new = np.array(x_train_new)\n",
    "y_train_new = keras.utils.to_categorical(y_train_new)\n",
    "x_validation = np.array(x_validation)\n",
    "y_validation = keras.utils.to_categorical(y_validation)\n",
    "\n",
    "x_train_new = x_train_new.reshape(x_train_new.shape + (1,))\n",
    "x_validation = x_validation.reshape(x_validation.shape + (1,))\n",
    "\n",
    "x_test = x_test.reshape(x_test.shape + (1,))\n",
    "y_test = keras.utils.to_categorical(y_test)"
   ]
  },
  {
   "cell_type": "code",
   "execution_count": 3,
   "metadata": {},
   "outputs": [
    {
     "name": "stdout",
     "output_type": "stream",
     "text": [
      "WARNING:tensorflow:From /home/yushaojun/tools/anaconda3/lib/python3.6/site-packages/tensorflow/python/ops/resource_variable_ops.py:435: colocate_with (from tensorflow.python.framework.ops) is deprecated and will be removed in a future version.\n",
      "Instructions for updating:\n",
      "Colocations handled automatically by placer.\n"
     ]
    }
   ],
   "source": [
    "# Model\n",
    "model = Sequential()\n",
    "# Add convolution 2D\n",
    "model.add(Conv2D(32, kernel_size=(3, 3),\n",
    "                 activation='relu',\n",
    "                 kernel_initializer='random_uniform',\n",
    "                 input_shape=(28, 28, 1)))\n",
    "model.add(MaxPooling2D((2, 2)))\n",
    "model.add(Conv2D(64, \n",
    "                 kernel_size=(3, 3), \n",
    "                 activation='relu'))\n",
    "model.add(MaxPooling2D(pool_size=(2, 2)))\n",
    "model.add(Conv2D(128, (3, 3), activation='relu'))\n",
    "model.add(Flatten())\n",
    "model.add(Dense(128, activation='relu'))\n",
    "model.add(Dense(10, activation='softmax'))\n",
    "\n",
    "model.compile(loss=keras.losses.categorical_crossentropy,\n",
    "              optimizer='adam',\n",
    "              metrics=['accuracy'])"
   ]
  },
  {
   "cell_type": "code",
   "execution_count": 4,
   "metadata": {},
   "outputs": [
    {
     "name": "stdout",
     "output_type": "stream",
     "text": [
      "Train on 48000 samples, validate on 12000 samples\n",
      "WARNING:tensorflow:From /home/yushaojun/tools/anaconda3/lib/python3.6/site-packages/tensorflow/python/ops/math_ops.py:3066: to_int32 (from tensorflow.python.ops.math_ops) is deprecated and will be removed in a future version.\n",
      "Instructions for updating:\n",
      "Use tf.cast instead.\n",
      "Epoch 1/15\n",
      "48000/48000 [==============================] - 15s 320us/sample - loss: 0.5469 - acc: 0.7965 - val_loss: 0.4084 - val_acc: 0.8482\n",
      "Epoch 2/15\n",
      "48000/48000 [==============================] - 15s 306us/sample - loss: 0.3458 - acc: 0.8721 - val_loss: 0.3230 - val_acc: 0.8823\n",
      "Epoch 3/15\n",
      "48000/48000 [==============================] - 15s 302us/sample - loss: 0.2894 - acc: 0.8925 - val_loss: 0.2839 - val_acc: 0.8982\n",
      "Epoch 4/15\n",
      "48000/48000 [==============================] - 14s 302us/sample - loss: 0.2533 - acc: 0.9054 - val_loss: 0.2690 - val_acc: 0.9012\n",
      "Epoch 5/15\n",
      "48000/48000 [==============================] - 15s 303us/sample - loss: 0.2229 - acc: 0.9156 - val_loss: 0.2784 - val_acc: 0.9007\n",
      "Epoch 6/15\n",
      "48000/48000 [==============================] - 15s 306us/sample - loss: 0.1987 - acc: 0.9241 - val_loss: 0.2478 - val_acc: 0.9158\n",
      "Epoch 7/15\n",
      "48000/48000 [==============================] - 15s 305us/sample - loss: 0.1759 - acc: 0.9330 - val_loss: 0.2732 - val_acc: 0.9018\n",
      "Epoch 8/15\n",
      "48000/48000 [==============================] - 15s 304us/sample - loss: 0.1568 - acc: 0.9406 - val_loss: 0.2726 - val_acc: 0.9122\n",
      "Epoch 9/15\n",
      "48000/48000 [==============================] - 14s 302us/sample - loss: 0.1398 - acc: 0.9466 - val_loss: 0.2955 - val_acc: 0.9102\n",
      "Epoch 10/15\n",
      "48000/48000 [==============================] - 14s 301us/sample - loss: 0.1229 - acc: 0.9526 - val_loss: 0.3188 - val_acc: 0.9048\n",
      "Epoch 11/15\n",
      "48000/48000 [==============================] - 14s 301us/sample - loss: 0.1108 - acc: 0.9573 - val_loss: 0.3181 - val_acc: 0.9082\n",
      "Epoch 12/15\n",
      "48000/48000 [==============================] - 14s 301us/sample - loss: 0.0986 - acc: 0.9623 - val_loss: 0.3314 - val_acc: 0.9122\n",
      "Epoch 13/15\n",
      "48000/48000 [==============================] - 14s 301us/sample - loss: 0.0888 - acc: 0.9657 - val_loss: 0.3662 - val_acc: 0.9062\n",
      "Epoch 14/15\n",
      "48000/48000 [==============================] - 14s 301us/sample - loss: 0.0817 - acc: 0.9686 - val_loss: 0.3595 - val_acc: 0.9084\n",
      "Epoch 15/15\n",
      "48000/48000 [==============================] - 15s 302us/sample - loss: 0.0715 - acc: 0.9732 - val_loss: 0.3748 - val_acc: 0.9099\n"
     ]
    }
   ],
   "source": [
    "history = model.fit(x_train_new, y_train_new, \n",
    "                    validation_data=(x_validation, y_validation),\n",
    "                    epochs=15,\n",
    "                    verbose=1)"
   ]
  },
  {
   "cell_type": "code",
   "execution_count": 6,
   "metadata": {},
   "outputs": [
    {
     "name": "stdout",
     "output_type": "stream",
     "text": [
      "_________________________________________________________________\n",
      "Layer (type)                 Output Shape              Param #   \n",
      "=================================================================\n",
      "conv2d (Conv2D)              (None, 26, 26, 32)        320       \n",
      "_________________________________________________________________\n",
      "max_pooling2d (MaxPooling2D) (None, 13, 13, 32)        0         \n",
      "_________________________________________________________________\n",
      "conv2d_1 (Conv2D)            (None, 11, 11, 64)        18496     \n",
      "_________________________________________________________________\n",
      "max_pooling2d_1 (MaxPooling2 (None, 5, 5, 64)          0         \n",
      "_________________________________________________________________\n",
      "conv2d_2 (Conv2D)            (None, 3, 3, 128)         73856     \n",
      "_________________________________________________________________\n",
      "flatten (Flatten)            (None, 1152)              0         \n",
      "_________________________________________________________________\n",
      "dense (Dense)                (None, 128)               147584    \n",
      "_________________________________________________________________\n",
      "dense_1 (Dense)              (None, 10)                1290      \n",
      "=================================================================\n",
      "Total params: 241,546\n",
      "Trainable params: 241,546\n",
      "Non-trainable params: 0\n",
      "_________________________________________________________________\n"
     ]
    }
   ],
   "source": [
    "model.summary()"
   ]
  },
  {
   "attachments": {},
   "cell_type": "markdown",
   "metadata": {},
   "source": [
    "### 1） Model Summary\n",
    "The number of parameters in CNN is much larger than that in fully connected neural network. The usage of CNNs are motivated by the fact that they are able to learn relevant features from an image at different levels . This is feature learning. Conventional neural networks cannot do this."
   ]
  },
  {
   "cell_type": "markdown",
   "metadata": {},
   "source": [
    "### 2) Learning Curve"
   ]
  },
  {
   "cell_type": "code",
   "execution_count": 8,
   "metadata": {},
   "outputs": [
    {
     "data": {
      "image/png": "[encoded data removed]",
      "text/plain": [
       "<Figure size 600x400 with 2 Axes>"
      ]
     },
     "metadata": {
      "needs_background": "light"
     },
     "output_type": "display_data"
    }
   ],
   "source": [
    "# plot loss during training\n",
    "plt.figure(dpi=100)\n",
    "plt.subplot(211)\n",
    "plt.title('Loss')\n",
    "plt.plot(history.history['loss'], label='train')\n",
    "plt.plot(history.history['val_loss'], label='validation')\n",
    "plt.legend()\n",
    "# plot accuracy during training\n",
    "plt.subplot(212)\n",
    "plt.title('Accuracy')\n",
    "plt.plot(history.history['acc'], label='train')\n",
    "plt.plot(history.history['val_acc'], label='validation')\n",
    "plt.legend()\n",
    "plt.subplots_adjust(hspace=0.5)\n",
    "plt.show()"
   ]
  },
  {
   "cell_type": "markdown",
   "metadata": {},
   "source": [
    "#### From the learning curve, we can observe overfitting, because the training accuracy is much higher than validation accuracy.\n",
    "\n",
    "### 2) Test accuracy"
   ]
  },
  {
   "cell_type": "code",
   "execution_count": 10,
   "metadata": {},
   "outputs": [
    {
     "name": "stdout",
     "output_type": "stream",
     "text": [
      "10000/10000 [==============================] - 1s 93us/sample - loss: 0.3935 - acc: 0.9060\n"
     ]
    },
    {
     "data": {
      "text/plain": [
       "0.906"
      ]
     },
     "execution_count": 10,
     "metadata": {},
     "output_type": "execute_result"
    }
   ],
   "source": [
    "model.evaluate(x_test, y_test)[1]"
   ]
  },
  {
   "cell_type": "markdown",
   "metadata": {},
   "source": [
    "### 3) Add Dropout and L2 regularization"
   ]
  },
  {
   "cell_type": "code",
   "execution_count": 12,
   "metadata": {},
   "outputs": [
    {
     "data": {
      "image/png": "[encoded data removed]",
      "text/plain": [
       "<Figure size 600x400 with 2 Axes>"
      ]
     },
     "metadata": {
      "needs_background": "light"
     },
     "output_type": "display_data"
    }
   ],
   "source": [
    "DROPOUT = 0.3\n",
    "\n",
    "# Model\n",
    "model = Sequential()\n",
    "# Add convolution 2D\n",
    "model.add(Conv2D(32, kernel_size=(3, 3),\n",
    "                 activation='relu',\n",
    "                 kernel_initializer='he_normal',\n",
    "                 input_shape=(28, 28, 1)))\n",
    "model.add(Dropout(DROPOUT))\n",
    "model.add(MaxPooling2D((2, 2)))\n",
    "model.add(Conv2D(64, \n",
    "                 kernel_size=(3, 3), \n",
    "                 activation='relu'))\n",
    "model.add(MaxPooling2D(pool_size=(2, 2)))\n",
    "model.add(Dropout(DROPOUT))\n",
    "model.add(Conv2D(128, (3, 3), activation='relu'))\n",
    "model.add(Flatten())\n",
    "model.add(Dropout(DROPOUT))\n",
    "model.add(Dense(128, activation='relu', kernel_regularizer=regularizers.l2(0.01)))\n",
    "model.add(Dense(10, activation='softmax'))\n",
    "\n",
    "model.compile(loss=keras.losses.categorical_crossentropy,\n",
    "              optimizer='adam',\n",
    "              metrics=['accuracy'])\n",
    "\n",
    "history = model.fit(x_train_new, y_train_new, \n",
    "                    validation_data=(x_validation, y_validation),\n",
    "                    epochs=15,\n",
    "                    verbose=0)\n",
    "\n",
    "# plot loss during training\n",
    "plt.figure(dpi=100)\n",
    "plt.subplot(211)\n",
    "plt.title('Loss')\n",
    "plt.plot(history.history['loss'], label='train')\n",
    "plt.plot(history.history['val_loss'], label='validation')\n",
    "plt.legend()\n",
    "# plot accuracy during training\n",
    "plt.subplot(212)\n",
    "plt.title('Accuracy')\n",
    "plt.plot(history.history['acc'], label='train')\n",
    "plt.plot(history.history['val_acc'], label='validation')\n",
    "plt.legend()\n",
    "plt.subplots_adjust(hspace=0.5)\n",
    "plt.show()"
   ]
  },
  {
   "cell_type": "markdown",
   "metadata": {},
   "source": [
    "### 3) Test Accuracy"
   ]
  },
  {
   "cell_type": "code",
   "execution_count": 14,
   "metadata": {},
   "outputs": [
    {
     "name": "stdout",
     "output_type": "stream",
     "text": [
      "10000/10000 [==============================] - 1s 96us/sample - loss: 0.3186 - acc: 0.9057\n"
     ]
    },
    {
     "data": {
      "text/plain": [
       "0.9057"
      ]
     },
     "execution_count": 14,
     "metadata": {},
     "output_type": "execute_result"
    }
   ],
   "source": [
    "model.evaluate(x_test, y_test)[1]"
   ]
  },
  {
   "cell_type": "code",
   "execution_count": 15,
   "metadata": {},
   "outputs": [],
   "source": [
    "model.save('my_model_2.h5')"
   ]
  }
 ],
 "metadata": {
  "kernelspec": {
   "display_name": "Python 3",
   "language": "python",
   "name": "python3"
  },
  "language_info": {
   "codemirror_mode": {
    "name": "ipython",
    "version": 3
   },
   "file_extension": ".py",
   "mimetype": "text/x-python",
   "name": "python",
   "nbconvert_exporter": "python",
   "pygments_lexer": "ipython3",
   "version": "3.6.8"
  }
 },
 "nbformat": 4,
 "nbformat_minor": 2
}
