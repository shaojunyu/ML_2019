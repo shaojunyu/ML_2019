{
 "cells": [
  {
   "cell_type": "code",
   "execution_count": 38,
   "metadata": {},
   "outputs": [],
   "source": [
    "import pandas\n",
    "import numpy as np\n",
    "import math"
   ]
  },
  {
   "cell_type": "code",
   "execution_count": 39,
   "metadata": {},
   "outputs": [],
   "source": [
    "data = pandas.read_csv('hw2_data_1.txt', sep=\"\\t\")\n",
    "data['y'] = data['Species'].map({'setosa':0, 'virginica':1})\n",
    "species = data['Species'].unique()\n",
    "train_data = data[0:69]\n",
    "train_X = train_data[['Sepal.Length','Sepal.Width']]\n",
    "train_y = train_data['y']\n",
    "test_data = data[70:].reset_index(drop=True)\n",
    "test_X = test_data[['Sepal.Length','Sepal.Width']]\n",
    "test_y = test_data['y']"
   ]
  },
  {
   "cell_type": "code",
   "execution_count": 97,
   "metadata": {},
   "outputs": [],
   "source": [
    "class BaseLearner():\n",
    "    def __init__(self):\n",
    "        self.feature_index = None\n",
    "        self.threshold = None\n",
    "        self.alpha = None\n",
    "        \n",
    "class AdaBoost():\n",
    "    def __init__(self, n_estimators=10):\n",
    "        self.n_estimators = n_estimators\n",
    "        \n",
    "    def fit(self, X, y):\n",
    "        n_samples, n_features = np.shape(X)\n",
    "        # Initialize weights to 1/N\n",
    "        weights = np.full(n_samples, (1 / n_samples))\n",
    "        self.estimators = []\n",
    "        \n",
    "        for _ in range(self.n_estimators):\n",
    "            clf = BaseLearner()\n",
    "            min_error = float('inf')\n",
    "            for feature_i in range(n_features):\n",
    "                feature_values = X[:,feature_i]\n",
    "                unique_values = np.unique(feature_values)\n",
    "                \n",
    "                for threshold in unique_values:\n",
    "                    # Set all predictions to '1' initially\n",
    "                    prediction = np.ones(np.shape(y))\n",
    "                    # Label the samples whose values are below threshold as 0\n",
    "                    prediction[X[:, feature_i] < threshold] = 0\n",
    "                    # Error = sum of weights of misclassified samples\n",
    "                    error = sum(weights[y != prediction])\n",
    "\n",
    "                    if error < min_error:\n",
    "                        min_error = error\n",
    "                        clf.threshold = threshold\n",
    "                        clf.feature_index = feature_i\n",
    "            clf.alpha = 0.5 * math.log((1.0 - min_error) / (min_error + 1e-10))\n",
    "            predictions = np.ones(np.shape(y))\n",
    "            predictions[ X[:, clf.feature_index] < clf.threshold ] = 0\n",
    "            \n",
    "            #update weights\n",
    "            weights *= np.exp(-clf.alpha * y * predictions)\n",
    "            #Normalize\n",
    "            weights /= np.sum(weights)\n",
    "            \n",
    "            self.estimators.append(clf)\n",
    "            \n",
    "    def predict(self, X):\n",
    "        n_samples = np.shape(X)[0]\n",
    "        y_pred = np.zeros((n_samples, 1))\n",
    "        for clf in self.estimators:\n",
    "            predictions = np.ones(np.shape(y_pred))\n",
    "            predictions[ X[:, clf.feature_index] < clf.threshold ] = 0\n",
    "            y_pred += clf.alpha * predictions\n",
    "            \n",
    "        return np.sign(y_pred).flatten()"
   ]
  },
  {
   "cell_type": "code",
   "execution_count": 99,
   "metadata": {},
   "outputs": [
    {
     "name": "stdout",
     "output_type": "stream",
     "text": [
      "Iterations: 3 \tError rate: 0.000\n",
      "Iterations: 5 \tError rate: 0.000\n",
      "Iterations: 10 \tError rate: 0.000\n",
      "Iterations: 20 \tError rate: 0.000\n"
     ]
    }
   ],
   "source": [
    "for i in [3, 5, 10, 20]:\n",
    "    ada = AdaBoost(n_estimators=i)\n",
    "    ada.fit(train_X.values, train_y)\n",
    "    y_pred = ada.predict(test_X.values)\n",
    "    print(\"Iterations: \" + str(i), end=\" \")\n",
    "    print(\"\\tError rate:\", end=\" \")\n",
    "    print(\"%.3f\" % (sum(abs(y_pred - test_y)) / len(test_y)))"
   ]
  }
 ],
 "metadata": {
  "kernelspec": {
   "display_name": "Python 3",
   "language": "python",
   "name": "python3"
  },
  "language_info": {
   "codemirror_mode": {
    "name": "ipython",
    "version": 3
   },
   "file_extension": ".py",
   "mimetype": "text/x-python",
   "name": "python",
   "nbconvert_exporter": "python",
   "pygments_lexer": "ipython3",
   "version": "3.7.0"
  }
 },
 "nbformat": 4,
 "nbformat_minor": 2
}
