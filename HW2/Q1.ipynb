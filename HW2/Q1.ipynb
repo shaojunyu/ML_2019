{
 "cells": [
  {
   "cell_type": "markdown",
   "metadata": {},
   "source": [
    "# Question 1"
   ]
  },
  {
   "cell_type": "code",
   "execution_count": 1,
   "metadata": {},
   "outputs": [],
   "source": [
    "# Shaojun Yu\n",
    "# Mar 30\n",
    "import pandas\n",
    "import numpy as np"
   ]
  },
  {
   "cell_type": "code",
   "execution_count": 2,
   "metadata": {},
   "outputs": [],
   "source": [
    "data = pandas.read_csv('hw2_data_1.txt', sep=\"\\t\")\n",
    "data['y'] = data['Species'].map({'setosa':0, 'virginica':1})\n",
    "species = data['Species'].unique()\n",
    "train_data = data[0:69]\n",
    "train_X = train_data[['Sepal.Length','Sepal.Width']]\n",
    "train_y = train_data['y']\n",
    "test_data = data[70:].reset_index(drop=True)\n",
    "test_X = test_data[['Sepal.Length','Sepal.Width']]\n",
    "test_y = test_data['y']"
   ]
  },
  {
   "cell_type": "code",
   "execution_count": 3,
   "metadata": {},
   "outputs": [],
   "source": [
    "class Perceptron():\n",
    "    def __init__(self, step_size=1, max_iteration=10):\n",
    "        self.step_size = step_size\n",
    "        self.max_iteration = max_iteration\n",
    "\n",
    "    def fit(self, X, y):\n",
    "        self.w_ = np.ones(1 + X.shape[1])\n",
    "        self.errors_ = []\n",
    "\n",
    "        for _ in range(self.max_iteration):\n",
    "            errors = 0\n",
    "            for xi, yi in zip(X, y):\n",
    "                prediction = self.predict(xi)\n",
    "                self.w_[1:] += self.step_size * (yi - prediction) * xi\n",
    "                self.w_[0] += self.step_size * (yi - prediction)\n",
    "                errors += np.abs(yi - prediction)\n",
    "            self.errors_.append(errors)\n",
    "        return self\n",
    "    \n",
    "\n",
    "    def predict(self, X):\n",
    "        net_input =  np.dot(X, self.w_[1:]) + self.w_[0]\n",
    "        return np.where(net_input >= 0, 1, 0)"
   ]
  },
  {
   "cell_type": "code",
   "execution_count": 8,
   "metadata": {},
   "outputs": [
    {
     "name": "stdout",
     "output_type": "stream",
     "text": [
      "Error rate: 0.067\n"
     ]
    }
   ],
   "source": [
    "p = Perceptron(max_iteration=100)\n",
    "p.fit(train_X.values, train_y)\n",
    "y_pred = p.predict(test_X.values)\n",
    "print(\"Error rate:\", end=\" \")\n",
    "print(\"%.3f\" % (sum(abs(y_pred - test_y)) / len(test_y)))"
   ]
  },
  {
   "cell_type": "code",
   "execution_count": null,
   "metadata": {},
   "outputs": [],
   "source": []
  }
 ],
 "metadata": {
  "kernelspec": {
   "display_name": "Python 3",
   "language": "python",
   "name": "python3"
  },
  "language_info": {
   "codemirror_mode": {
    "name": "ipython",
    "version": 3
   },
   "file_extension": ".py",
   "mimetype": "text/x-python",
   "name": "python",
   "nbconvert_exporter": "python",
   "pygments_lexer": "ipython3",
   "version": "3.7.0"
  }
 },
 "nbformat": 4,
 "nbformat_minor": 2
}
