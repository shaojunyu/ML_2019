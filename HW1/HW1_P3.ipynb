{
 "cells": [
  {
   "cell_type": "code",
   "execution_count": 7,
   "metadata": {},
   "outputs": [],
   "source": [
    "# Feb 19 2019\n",
    "# Shaojun Yu\n",
    "# Python 3.7\n",
    "import pandas\n",
    "import numpy as np\n",
    "from sklearn.neighbors import KernelDensity\n",
    "from scipy import stats\n",
    "import scipy.stats as stats"
   ]
  },
  {
   "cell_type": "code",
   "execution_count": 8,
   "metadata": {},
   "outputs": [],
   "source": [
    "training = pandas.read_csv('HW_1_training.txt', sep='\\t')\n",
    "C0 = np.array(training[training['Y'] == 0].drop(columns=['Y']))\n",
    "C1 = np.array(training[training['Y'] == 1].drop(columns=['Y']))\n",
    "bandwidth = [0.1, 0.5, 2]\n",
    "points = {'X1':[5,0], 'X2':[0,2], 'X3':[0,0]}"
   ]
  },
  {
   "cell_type": "code",
   "execution_count": 10,
   "metadata": {},
   "outputs": [
    {
     "name": "stdout",
     "output_type": "stream",
     "text": [
      "bandwidth: 0.1\n",
      "p(C0|X1): 0.999979\n",
      "p(C1|X1): 0.000021\n",
      "p(C0|X2): 0.754194\n",
      "p(C1|X2): 0.245806\n",
      "p(C0|X3): 1.000000\n",
      "p(C1|X3): 0.000000\n",
      "bandwidth: 0.5\n",
      "p(C0|X1): 0.621695\n",
      "p(C1|X1): 0.378305\n",
      "p(C0|X2): 0.654270\n",
      "p(C1|X2): 0.345730\n",
      "p(C0|X3): 0.866564\n",
      "p(C1|X3): 0.133436\n",
      "bandwidth: 2\n",
      "p(C0|X1): 0.550348\n",
      "p(C1|X1): 0.449652\n",
      "p(C0|X2): 0.381736\n",
      "p(C1|X2): 0.618264\n",
      "p(C0|X3): 0.525555\n",
      "p(C1|X3): 0.474445\n"
     ]
    }
   ],
   "source": [
    "for bw in bandwidth:\n",
    "    print('bandwidth: '+ str(bw))\n",
    "    kde0 = stats.gaussian_kde(C0.T)\n",
    "    kde0.set_bandwidth(bw)\n",
    "    kde1 = stats.gaussian_kde(C1.T)\n",
    "    kde1.set_bandwidth(bw)\n",
    "    for X in points:\n",
    "        px = kde0(points[X])[0] + kde1(points[X])[0]\n",
    "        px = px * 0.5\n",
    "        kernel = {'C0':kde0,'C1':kde1}\n",
    "        for k in kernel:\n",
    "            post = kernel[k](points[X]) * 0.5 / px\n",
    "            print(\"p(%s|%s): %f\" % (k,X,post))"
   ]
  },
  {
   "cell_type": "code",
   "execution_count": null,
   "metadata": {},
   "outputs": [],
   "source": []
  },
  {
   "cell_type": "code",
   "execution_count": null,
   "metadata": {},
   "outputs": [],
   "source": []
  }
 ],
 "metadata": {
  "kernelspec": {
   "display_name": "Python 3",
   "language": "python",
   "name": "python3"
  },
  "language_info": {
   "codemirror_mode": {
    "name": "ipython",
    "version": 3
   },
   "file_extension": ".py",
   "mimetype": "text/x-python",
   "name": "python",
   "nbconvert_exporter": "python",
   "pygments_lexer": "ipython3",
   "version": "3.7.0"
  }
 },
 "nbformat": 4,
 "nbformat_minor": 2
}
